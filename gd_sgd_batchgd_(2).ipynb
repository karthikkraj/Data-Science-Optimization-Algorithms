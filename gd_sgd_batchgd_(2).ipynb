{
 "cells": [
  {
   "cell_type": "markdown",
   "metadata": {
    "id": "SfpZhuCuUgpX"
   },
   "source": [
    "# **Gradient Descent (GD), Stochastic Gradient Descent (SGD), and Batch Gradient Descent (Batch GD)**\n",
    "\n",
    "### **Group Members:**\n",
    "* Ch. Siddharth (BCD21)\n",
    "* K Sri Chaitan (BCD38)\n",
    "* K Karthik Raj (BCD41)\n",
    "\n",
    "## **Introduction:**\n",
    "\n",
    "The code implements three gradient-based optimization algorithms—Gradient Descent (GD), Stochastic Gradient Descent (SGD), and Batch Gradient Descent (Batch GD)—to find the optimal parameters of a linear regression model for the California Housing dataset. It visualizes the optimization process by plotting the paths of each algorithm on a contour plot of the loss function.\n",
    "\n",
    "## Key Functions:\n",
    "\n",
    "1. `compute_loss`: Calculates the error of the model's predictions using Mean Squared Error (MSE). It's essential for evaluating how well the model is performing.\n",
    "2. `gradient_descent`: The core optimization function that iteratively adjusts the model's parameters (theta) to minimize the loss. It uses the entire dataset in each step.\n",
    "3. `stochastic_gradient_descent`: A variation of gradient descent that updates parameters based on a single, randomly chosen data point at a time. It's often faster but less stable than GD.\n",
    "4. `batch_gradient_descent`: A compromise between GD and SGD, using a small batch of data points for each update. Offers a balance between speed and stability.\n",
    "5. `plot_contours_and_paths`: This function is responsible for creating the visualization that shows the loss landscape and how each optimization algorithm navigates it. It helps in understanding the behavior of the algorithms.\n",
    "\n",
    "In essence, these functions work together to:\n",
    "1. Define the problem (loss function)\n",
    "2. Search for the best solution (optimization algorithms)\n",
    "3. Visualize the search process (plotting function)\n",
    "\n",
    "## **Functionality:**\n",
    "\n",
    "1. Data Loading and Preprocessing: Loads the California Housing dataset, selects two features for visualization, standardizes the features using StandardScaler, and adds a bias term to the feature matrix.\n",
    "\n",
    "2. Loss Function: Defines the Mean Squared Error (MSE) loss function to measure the model's performance.\n",
    "\n",
    "3. Optimization Algorithms: Implements GD, SGD, and Batch GD to find the optimal model parameters (theta) that minimize the loss function.\n",
    "\n",
    "4. Visualization: Creates a contour plot of the loss function and overlays the paths taken by each optimization algorithm during the search for the optimal parameters."
   ]
  },
  {
   "cell_type": "markdown",
   "metadata": {
    "id": "V8r0aWRnWbeC"
   },
   "source": [
    "## **Library Imports and Documentation**\n",
    "\n",
    "1. import numpy as np:\n",
    "  * Purpose: Imports the NumPy library and assigns it the alias np. NumPy is fundamental for numerical computations in Python, providing support for arrays, matrices, and mathematical functions.\n",
    "  * Usage in the code: NumPy is used extensively throughout the code for:\n",
    "    * Creating and manipulating arrays to store and process data (e.g., features, targets).\n",
    "    * Performing mathematical operations on arrays, such as calculating the loss, gradients, and updating model parameters.\n",
    "2. import matplotlib.pyplot as plt:\n",
    "  * Purpose: Imports the pyplot module from Matplotlib and assigns it the alias plt. Matplotlib is a popular library for creating visualizations in Python.\n",
    "  * Usage in the code: pyplot is used to create the contour plot that visualizes the loss function and the paths taken by the optimization algorithms. This helps in understanding how the algorithms search for the optimal solution.\n",
    "3. from sklearn.datasets import fetch_california_housing:\n",
    "  * Purpose: Imports the fetch_california_housing function from the sklearn.datasets module. This function is used to load the California Housing dataset.\n",
    "  * Usage in the code: fetch_california_housing is called to load the dataset, which is then used for training and evaluating the linear regression models.\n",
    "4. from sklearn.preprocessing import StandardScaler:\n",
    "  * Purpose: Imports the StandardScaler class from the sklearn.preprocessing module. This class is used for feature scaling.\n",
    "  * Usage in the code: StandardScaler is used to standardize the features of the California Housing dataset before applying the optimization algorithms. This helps to improve the performance and stability of the algorithms.\n",
    "\n",
    "### In essence, this cell sets the stage for the subsequent code by providing access to the necessary tools and data:\n",
    "\n",
    "* NumPy for numerical computations\n",
    "* Matplotlib for visualization\n",
    "* Scikit-learn for the dataset and data preprocessing"
   ]
  },
  {
   "cell_type": "code",
   "execution_count": null,
   "metadata": {
    "id": "YuJ0_EUjJ2FJ"
   },
   "outputs": [],
   "source": [
    "import numpy as np\n",
    "import matplotlib.pyplot as plt\n",
    "from sklearn.datasets import fetch_california_housing\n",
    "from sklearn.preprocessing import StandardScaler\n"
   ]
  },
  {
   "cell_type": "markdown",
   "metadata": {
    "id": "35t0p4wlXSoX"
   },
   "source": [
    "## **California Housing dataset**\n",
    "\n",
    "This cell performs the following actions:\n",
    "\n",
    "1. Loads the Dataset: It uses the fetch_california_housing() function from scikit-learn to load the California Housing dataset. This dataset contains information about various features of houses in California, along with their median house values.\n",
    "\n",
    "2. Separates Features and Target: It then extracts the features (input variables) and the target (output variable) from the loaded dataset.\n",
    "\n",
    "  * X_full stores the features (e.g., median income, house age, average rooms, etc.).\n",
    "\n",
    "  * y_full stores the target variable, which is the median house value.\n",
    "\n",
    "3. Reshapes Target: It reshapes the target variable (y_full) into a column vector using reshape(-1, 1). This is often done to ensure compatibility with certain machine learning algorithms that expect the target variable to be in this format.\n",
    "\n",
    "### **In essence:**\n",
    "\n",
    "This cell sets up the data for use in the subsequent parts of the code. It loads the California Housing dataset, separates the features and target variable, and ensures that the target variable is in the correct shape for use in machine learning models.\n"
   ]
  },
  {
   "cell_type": "code",
   "execution_count": null,
   "metadata": {
    "id": "XRxUG0o8J3KJ"
   },
   "outputs": [],
   "source": [
    "# Load the California Housing dataset\n",
    "housing = fetch_california_housing()\n",
    "X_full, y_full = housing.data, housing.target\n",
    "y_full = y_full.reshape(-1, 1)"
   ]
  },
  {
   "cell_type": "markdown",
   "metadata": {
    "id": "eVfRxqMIYM6K"
   },
   "source": [
    "## **Select only two features for visualization purposes:**\n",
    "\n",
    "1. Feature Selection: It selects only the first two features from the full feature matrix X_full using slicing ([:, :2]). This is done to simplify the visualization of the loss function, as it's easier to plot in 2D.\n",
    "\n",
    "2. Feature Scaling: It creates an instance of the StandardScaler class from scikit-learn and uses it to standardize the selected features (X). This scaling ensures that all features have a similar range of values, which can improve the performance and stability of machine learning algorithms.\n",
    "\n",
    "3. Target Variable Assignment: It assigns the full target variable (y_full) to a new variable y. This is likely done for consistency and convenience in later parts of the code.\n",
    "\n",
    "### **In essence:**\n",
    "\n",
    "This cell prepares the data specifically for the visualization of the loss function and the paths taken by the optimization algorithms. It selects two features for simplicity, scales them for better algorithm performance, and assigns the target variable for use in the model."
   ]
  },
  {
   "cell_type": "code",
   "execution_count": null,
   "metadata": {
    "id": "4KK2emtYJ-ug"
   },
   "outputs": [],
   "source": [
    "# Select only two features for visualization purposes\n",
    "X = X_full[:, :2]  # Using only the first two features for simplification\n",
    "scaler = StandardScaler()\n",
    "X = scaler.fit_transform(X)\n",
    "y = y_full\n"
   ]
  },
  {
   "cell_type": "markdown",
   "metadata": {
    "id": "slGaJf0UYh3W"
   },
   "source": [
    "## Adding bias term to X\n",
    "\n",
    "This cell performs a crucial step for linear regression models by adding a bias term (also known as an intercept term) to the feature matrix X.\n",
    "\n",
    "### **Explanation:**\n",
    "\n",
    "1. X_b = np.c_[np.ones((X.shape[0], 1)), X]: This line uses NumPy's c_ function to horizontally stack two arrays:\n",
    "  * np.ones((X.shape[0], 1)): This creates a column vector of ones with the same number of rows as the feature matrix X. This represents the bias term.\n",
    "  * X: This is the feature matrix (with the selected and scaled features).\n",
    "By combining these two arrays, a new feature matrix X_b is created, where the first column is the bias term (all ones), and the remaining columns are the original features.\n",
    "\n",
    "### **Why add a bias term?**\n",
    "\n",
    "The bias term is essential in linear regression because it allows the model to make predictions even when all the features are zero. It shifts the regression line up or down, allowing it to better fit the data. Without the bias term, the regression line would always be forced to pass through the origin (0, 0), which might not be appropriate for all datasets.\n",
    "\n",
    "### **In essence:**\n",
    "\n",
    "This cell modifies the feature matrix by adding a bias term, which is crucial for the proper functioning of linear regression models. This modification ensures that the model can learn a more flexible and accurate representation of the data."
   ]
  },
  {
   "cell_type": "code",
   "execution_count": null,
   "metadata": {
    "id": "YUgq0DjmKCZi"
   },
   "outputs": [],
   "source": [
    "# Add bias term to X\n",
    "X_b = np.c_[np.ones((X.shape[0], 1)), X]  # Add bias term for intercept"
   ]
  },
  {
   "cell_type": "markdown",
   "metadata": {
    "id": "i4nd0Tq5ZGQF"
   },
   "source": [
    "## **Mean Squared Error loss function**\n",
    "\n",
    "This cell defines a function called compute_loss that calculates the MSE loss for a given set of features, target values, and model parameters. The MSE loss is a common metric used to evaluate the performance of regression models.\n",
    "\n",
    "### **Explanation:**\n",
    "\n",
    "1. def compute_loss(X, y, theta):: This line defines the function signature, specifying that it takes three arguments:\n",
    "\n",
    "  * X: The feature matrix (including the bias term).\n",
    "  * y: The target variable vector.\n",
    "  * theta: The model parameters (weights).\n",
    "\n",
    "2. return np.mean((X.dot(theta) - y) ** 2) / 2: This line calculates and returns the MSE loss. Let's break it down:\n",
    "\n",
    "  * X.dot(theta): This performs the dot product between the feature matrix X and the model parameters theta, which essentially calculates the model's predictions.\n",
    "  * (X.dot(theta) - y): This subtracts the actual target values (y) from the model's predictions, giving the errors or residuals.\n",
    "  * (** 2): This squares the errors to ensure that positive and negative errors contribute equally to the loss.\n",
    "  * np.mean(...): This calculates the average of the squared errors across all data points.\n",
    "  * / 2: This divides the average squared error by 2, which is a common convention in the MSE formula (it simplifies the derivative for gradient-based optimization).\n",
    "\n",
    "### **In essence:**\n",
    "\n",
    "This cell defines the function that quantifies the error of the model's predictions using the MSE metric. This function will be used by the optimization algorithms to evaluate the model's performance and guide the search for the optimal parameters."
   ]
  },
  {
   "cell_type": "code",
   "execution_count": null,
   "metadata": {
    "id": "J5IzaqSNKE4f"
   },
   "outputs": [],
   "source": [
    "# Define the Mean Squared Error loss function\n",
    "def compute_loss(X, y, theta):\n",
    "    return np.mean((X.dot(theta) - y) ** 2) / 2"
   ]
  },
  {
   "cell_type": "markdown",
   "metadata": {
    "id": "h--G6MTLZkdH"
   },
   "source": [
    "## **Gradient Descent (GD) Implementation**\n",
    "\n",
    "This cell defines a function called gradient_descent that implements the GD algorithm to find the optimal parameters (theta) for a linear regression model. GD is an iterative optimization algorithm that repeatedly updates the parameters in the direction of the negative gradient of the loss function.\n",
    "\n",
    "### **Explanation:**\n",
    "\n",
    "1. def gradient_descent(X, y, initial_theta, learning_rate=0.01, epsilon=1e-6, max_iterations=1000):: This line defines the function signature, specifying the input arguments:\n",
    "\n",
    "  * X: The feature matrix (including the bias term).\n",
    "  * y: The target variable vector.\n",
    "  * initial_theta: The starting values for the model parameters.\n",
    "  * learning_rate: The step size for parameter updates.\n",
    "  * epsilon: The convergence threshold (for early stopping).\n",
    "  * max_iterations: The maximum number of iterations.\n",
    "\n",
    "2. theta = initial_theta.copy(): This line initializes the model parameters theta with a copy of the initial_theta values.\n",
    "3. path = [theta.copy()]: This line initializes a list called path to store the values of theta during the optimization process. This is used for visualization later.\n",
    "4. for iteration in range(max_iterations):: This loop iterates for a maximum of max_iterations.\n",
    "5. gradients = X.T.dot(X.dot(theta) - y) / len(y): This line calculates the gradients of the loss function with respect to the parameters theta. This is the core of the GD algorithm, as it determines the direction of the parameter updates.\n",
    "6. theta -= learning_rate * gradients: This line updates the parameters theta by subtracting the learning rate times the gradients. This moves the parameters in the direction of the negative gradient, aiming to minimize the loss function.\n",
    "7. path.append(theta.copy()): This line appends the current values of theta to the path list.\n",
    "8. if np.linalg.norm(gradients) < epsilon:: This condition checks if the magnitude of the gradients is below the convergence threshold epsilon. If so, it means that the algorithm has converged, and the loop is broken using break.\n",
    "9. return theta, path: This line returns the final optimized parameters theta and the path taken during optimization.\n",
    "\n",
    "### **In essence:**\n",
    "\n",
    "This cell implements the Gradient Descent algorithm to iteratively update the model parameters and minimize the loss function. It uses the entire dataset in each step to calculate the gradients, making it suitable for smaller datasets but potentially slow for larger ones. The path is recorded to visualize the optimization process later."
   ]
  },
  {
   "cell_type": "code",
   "execution_count": null,
   "metadata": {
    "id": "TGKK1SHEKHF4"
   },
   "outputs": [],
   "source": [
    "# Gradient Descent (GD) Implementation\n",
    "def gradient_descent(X, y, initial_theta, learning_rate=0.01, epsilon=1e-6, max_iterations=1000):\n",
    "    theta = initial_theta.copy()\n",
    "    path = [theta.copy()]\n",
    "    for iteration in range(max_iterations):\n",
    "        gradients = X.T.dot(X.dot(theta) - y) / len(y)\n",
    "        theta -= learning_rate * gradients\n",
    "        path.append(theta.copy())\n",
    "\n",
    "        # Early stopping condition\n",
    "        if np.linalg.norm(gradients) < epsilon:\n",
    "            break\n",
    "    return theta, path\n"
   ]
  },
  {
   "cell_type": "markdown",
   "metadata": {
    "id": "R9VjvVo8aiCO"
   },
   "source": [
    "## **Stochastic Gradient Descent (SGD) Implementation**\n",
    "\n",
    "This cell defines a function called stochastic_gradient_descent that implements the SGD algorithm to find the optimal parameters (theta) for a linear regression model. SGD is a variation of GD that updates the parameters based on the loss calculated from a single, randomly chosen data point at each iteration.\n",
    "\n",
    "### **Explanation:**\n",
    "\n",
    "1. def stochastic_gradient_descent(...): This line defines the function signature, similar to gradient_descent, specifying the input arguments.\n",
    "\n",
    "1. Initialization: The code initializes theta, path, and m (number of data points) in the same way as gradient_descent.\n",
    "\n",
    "1. Iteration: The loop iterates for a maximum of max_iterations.\n",
    "\n",
    "1. Random Data Point Selection: In each iteration, a random index random_index is chosen using np.random.randint(m). This index is used to select a single data point (xi, yi) from the dataset.\n",
    "\n",
    "1. Gradient Calculation: The gradients are calculated using the selected data point. Note that the gradient calculation is slightly different from GD, as it's based on a single data point instead of the entire dataset.\n",
    "\n",
    "1. Parameter Update: The parameters theta are updated using the calculated gradients and the learning rate.\n",
    "\n",
    "1. Path Appending: The current values of theta are appended to the path list.\n",
    "\n",
    "1. Early Stopping: The code checks for convergence using the same early stopping condition as gradient_descent.\n",
    "\n",
    "9. Return: The function returns the final optimized parameters theta and the path taken during optimization.\n",
    "\n",
    "### **Key Differences from GD:**\n",
    "\n",
    "* Data Point Selection: SGD uses a single random data point in each iteration, while GD uses the entire dataset.\n",
    "* Gradient Calculation: The gradient calculation in SGD is based on the selected data point, while GD uses the entire dataset.\n",
    "* Convergence: SGD typically converges faster than GD, especially for large datasets, but its path is more noisy due to the randomness in data point selection.\n",
    "\n",
    "### **In essence:**\n",
    "\n",
    "This cell implements the Stochastic Gradient Descent algorithm, which is a more efficient but potentially less stable alternative to GD for large datasets. It updates parameters based on individual data points, leading to a faster but more erratic convergence path."
   ]
  },
  {
   "cell_type": "code",
   "execution_count": null,
   "metadata": {
    "id": "iQ6bdePmKJmr"
   },
   "outputs": [],
   "source": [
    "# Stochastic Gradient Descent (SGD) Implementation\n",
    "def stochastic_gradient_descent(X, y, initial_theta, learning_rate=0.01, epsilon=1e-6, max_iterations=1000):\n",
    "    theta = initial_theta.copy()\n",
    "    path = [theta.copy()]\n",
    "    m = len(y)\n",
    "    for iteration in range(max_iterations):\n",
    "        random_index = np.random.randint(m)\n",
    "        xi = X[random_index:random_index+1]\n",
    "        yi = y[random_index:random_index+1]\n",
    "        gradients = xi.T.dot(xi.dot(theta) - yi)\n",
    "        theta -= learning_rate * gradients\n",
    "        path.append(theta.copy())\n",
    "\n",
    "        # Early stopping condition\n",
    "        if np.linalg.norm(gradients) < epsilon:\n",
    "            break\n",
    "    return theta, path"
   ]
  },
  {
   "cell_type": "markdown",
   "metadata": {
    "id": "u0qkcnwDbcrf"
   },
   "source": [
    "## **Batch Gradient Descent Implementation**\n",
    "\n",
    "This cell defines a function called batch_gradient_descent that implements the Batch Gradient Descent algorithm. This algorithm is a compromise between Gradient Descent (GD) and Stochastic Gradient Descent (SGD). It updates the model parameters based on the loss calculated from a batch of data points at each iteration.\n",
    "\n",
    "### **Explanation:**\n",
    "\n",
    "1. def batch_gradient_descent(...): Defines the function, similar to GD and SGD, with additional batch_size parameter.\n",
    "1. Initialization: Similar to GD and SGD, it initializes theta, path, and m.\n",
    "1. Outer Iteration: The outer loop iterates for a maximum of max_iterations.\n",
    "1. Data Shuffling: In each outer iteration, it shuffles the data indices using np.random.permutation(m) to ensure randomness in batch selection.\n",
    "1. Inner Iteration (Batch Processing): The inner loop iterates over the shuffled data in batches of size batch_size.\n",
    "1. Gradient Calculation: It calculates the gradients using the current batch of data.\n",
    "1. Parameter Update: It updates theta based on the batch gradients and learning rate.\n",
    "1. Path Appending: It appends the current theta to the path.\n",
    "1. Early Stopping: Checks for convergence using the same condition as GD and SGD. If converged, it returns theta and path.\n",
    "1. Return: After processing all batches or reaching convergence, it returns the final theta and path.\n",
    "\n",
    "### **Key Differences from GD and SGD:**\n",
    "\n",
    "* Batch Processing: Batch GD processes data in batches, while GD uses the entire dataset and SGD uses single data points.\n",
    "* Convergence: Batch GD offers a balance between the speed of SGD and the stability of GD. It converges faster than GD but with less noise than SGD.\n",
    "\n",
    "### **In essence:**\n",
    "\n",
    "This cell implements Batch Gradient Descent, a variant of gradient-based optimization that processes data in batches, offering a compromise between the efficiency of SGD and the stability of GD. This approach is often preferred for large datasets to speed up convergence while maintaining a smoother optimization path."
   ]
  },
  {
   "cell_type": "code",
   "execution_count": null,
   "metadata": {
    "id": "DmWdg5SXKMCL"
   },
   "outputs": [],
   "source": [
    "# Batch Gradient Descent Implementation\n",
    "def batch_gradient_descent(X, y, initial_theta, learning_rate=0.01, batch_size=20, epsilon=1e-6, max_iterations=1000):\n",
    "    theta = initial_theta.copy()\n",
    "    path = [theta.copy()]\n",
    "    m = len(y)\n",
    "    for iteration in range(max_iterations):\n",
    "        shuffled_indices = np.random.permutation(m)\n",
    "        X_shuffled = X[shuffled_indices]\n",
    "        y_shuffled = y[shuffled_indices]\n",
    "\n",
    "        for i in range(0, m, batch_size):\n",
    "            xi = X_shuffled[i:i+batch_size]\n",
    "            yi = y_shuffled[i:i+batch_size]\n",
    "            gradients = xi.T.dot(xi.dot(theta) - yi) / batch_size\n",
    "            theta -= learning_rate * gradients\n",
    "            path.append(theta.copy())\n",
    "\n",
    "            # Early stopping condition\n",
    "            if np.linalg.norm(gradients) < epsilon:\n",
    "                return theta, path\n",
    "    return theta, path"
   ]
  },
  {
   "cell_type": "markdown",
   "metadata": {
    "id": "IbjVRm01cOs7"
   },
   "source": [
    "## Plotting:\n",
    "\n",
    "This cell sets up and executes the three gradient descent optimization methods (GD, SGD, and Batch GD) using a shared initial starting point for the model parameters. It also stores the paths taken by each method for visualization.\n",
    "\n",
    "### **Explanation:**\n",
    "\n",
    "1. initial_theta = np.random.randn(3, 1): This line initializes the starting values for the model parameters (theta) randomly using NumPy's randn function. The (3, 1) shape specifies that theta is a column vector with 3 elements (corresponding to the bias term and the two selected features).\n",
    "1. theta_gd, gd_path = gradient_descent(X_b, y, initial_theta): This line calls the gradient_descent function (defined earlier) with the prepared data (X_b, y) and the initial_theta. It stores the final optimized parameters in theta_gd and the path taken during optimization in gd_path.\n",
    "1. theta_sgd, sgd_path = stochastic_gradient_descent(X_b, y, initial_theta): This line does the same as the previous one, but using the stochastic_gradient_descent function.\n",
    "1. theta_batchgd, batchgd_path = batch_gradient_descent(X_b, y, initial_theta): This line calls the batch_gradient_descent function, again with the same inputs, and stores the results in theta_batchgd and batchgd_path.\n",
    "\n",
    "### **Visualisation:**\n",
    "\n",
    "The final cell in this code defines and calls a function to visualize the loss function and the paths taken by the optimization algorithms:\n",
    "\n",
    "```\n",
    "# Visualize the contour plot of the loss function and the paths of each optimization method\n",
    "def plot_contours_and_paths(X, y, paths, labels, theta_range=(-3, 3), resolution=100):\n",
    "    # ... (implementation details) ...\n",
    "\n",
    "# Plot contours and paths\n",
    "plot_contours_and_paths(X_b, y, paths=[gd_path, sgd_path, batchgd_path], labels=[\"Gradient Descent\", \"SGD\", \"Batch Gradient Descent\"])\n",
    "```\n",
    "### **Functionality:**\n",
    "\n",
    "This cell defines a function called plot_contours_and_paths that creates a contour plot of the loss function and overlays the paths taken by each optimization algorithm. This visualization helps to understand how the algorithms navigate the loss landscape to find the optimal solution.\n",
    "\n",
    "### **How the visualization works:**\n",
    "\n",
    "1. Contour Plot: The function first creates a grid of points representing different values for the model parameters (theta). For each point on the grid, it calculates the loss using the compute_loss function. It then uses plt.contourf to create a contour plot, where lines represent areas of equal loss.\n",
    "1. Optimization Paths: For each optimization algorithm, the function retrieves the path taken during optimization (stored in gd_path, sgd_path, and batchgd_path). It then plots the path on the contour plot using plt.plot, showing how the parameters evolved over time.\n",
    "1. Labels and Display: The function adds labels to the plot using plt.xlabel, plt.ylabel, plt.title, and plt.legend. Finally, it displays the plot using plt.show().\n",
    "\n",
    "### **In essence**:\n",
    "\n",
    "This cell visualizes the optimization process by showing the loss function as a contour plot and overlaying the paths taken by GD, SGD, and Batch GD. This allows us to compare the behavior and efficiency of the different algorithms in finding the optimal solution. You'll see that GD typically follows a smooth path, SGD has a more erratic path, and Batch GD offers a balance between the two.\n",
    "\n"
   ]
  },
  {
   "cell_type": "code",
   "execution_count": null,
   "metadata": {
    "colab": {
     "base_uri": "https://localhost:8080/",
     "height": 568
    },
    "id": "NvjK1BOUKObt",
    "outputId": "8bf78783-0e8a-4a8d-a017-09f44bc764b9"
   },
   "outputs": [
    {
     "data": {
      "image/png": "[encoded data removed]",
      "text/plain": [
       "<Figure size 1000x600 with 2 Axes>"
      ]
     },
     "metadata": {},
     "output_type": "display_data"
    }
   ],
   "source": [
    "# Define a shared initial theta for all methods\n",
    "initial_theta = np.random.randn(3, 1)\n",
    "\n",
    "# Run each optimization and record paths\n",
    "theta_gd, gd_path = gradient_descent(X_b, y, initial_theta)\n",
    "theta_sgd, sgd_path = stochastic_gradient_descent(X_b, y, initial_theta)\n",
    "theta_batchgd, batchgd_path = batch_gradient_descent(X_b, y, initial_theta)\n",
    "\n",
    "# Visualize the contour plot of the loss function and the paths of each optimization method\n",
    "def plot_contours_and_paths(X, y, paths, labels, theta_range=(-3, 3), resolution=100):\n",
    "    theta0_vals = np.linspace(theta_range[0], theta_range[1], resolution)\n",
    "    theta1_vals = np.linspace(theta_range[0], theta_range[1], resolution)\n",
    "    theta0_grid, theta1_grid = np.meshgrid(theta0_vals, theta1_vals)\n",
    "\n",
    "    # Compute loss for each combination of theta0 and theta1, fixing one theta for simplicity\n",
    "    loss_vals = np.zeros_like(theta0_grid)\n",
    "    theta_fixed = 0.5  # Fixed value for theta_2 (second feature weight)\n",
    "    for i in range(theta0_grid.shape[0]):\n",
    "        for j in range(theta0_grid.shape[1]):\n",
    "            theta = np.array([[theta0_grid[i, j]], [theta1_grid[i, j]], [theta_fixed]])\n",
    "            loss_vals[i, j] = compute_loss(X, y, theta)\n",
    "\n",
    "    # Plot the contour map\n",
    "    plt.figure(figsize=(10, 6))\n",
    "    plt.contourf(theta0_grid, theta1_grid, loss_vals, levels=50, cmap='viridis')\n",
    "    plt.colorbar()\n",
    "\n",
    "    # Plot paths for each optimization method\n",
    "    for path, label in zip(paths, labels):\n",
    "        theta0_path = [theta[0][0] for theta in path]\n",
    "        theta1_path = [theta[1][0] for theta in path]\n",
    "        plt.plot(theta0_path, theta1_path, marker='o', markersize=3, label=label)\n",
    "\n",
    "    plt.xlabel(r\"$\\theta_0$\")\n",
    "    plt.ylabel(r\"$\\theta_1$\")\n",
    "    plt.title(\"Contour Plot of Loss Function with Paths of GD, SGD, and Batch GD\")\n",
    "    plt.legend()\n",
    "    plt.show()\n",
    "\n",
    "# Plot contours and paths\n",
    "plot_contours_and_paths(X_b, y, paths=[gd_path, sgd_path, batchgd_path], labels=[\"Gradient Descent\", \"SGD\", \"Batch Gradient Descent\"])\n"
   ]
  },
  {
   "cell_type": "markdown",
   "metadata": {
    "id": "QCFza8HDdnxJ"
   },
   "source": [
    "## Done by:\n",
    "\n",
    "## K Sri Chaitan (BCD 38)"
   ]
  },
  {
   "cell_type": "code",
   "execution_count": null,
   "metadata": {},
   "outputs": [],
   "source": []
  }
 ],
 "metadata": {
  "colab": {
   "provenance": []
  },
  "kernelspec": {
   "display_name": "Python 3 (ipykernel)",
   "language": "python",
   "name": "python3"
  },
  "language_info": {
   "codemirror_mode": {
    "name": "ipython",
    "version": 3
   },
   "file_extension": ".py",
   "mimetype": "text/x-python",
   "name": "python",
   "nbconvert_exporter": "python",
   "pygments_lexer": "ipython3",
   "version": "3.12.5"
  }
 },
 "nbformat": 4,
 "nbformat_minor": 4
}
